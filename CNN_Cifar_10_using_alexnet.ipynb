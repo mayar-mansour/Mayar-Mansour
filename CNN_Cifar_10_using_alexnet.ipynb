{
  "cells": [
    {
      "cell_type": "code",
      "execution_count": null,
      "metadata": {
        "id": "HD2Rk-ZDSMVx"
      },
      "outputs": [],
      "source": [
        "from tensorflow import keras\n",
        "from keras.layers import Input, Dense, Dropout,Conv2D, MaxPooling2D, Flatten\n",
        "from tensorflow.keras import  datasets\n",
        "from matplotlib import pyplot as plt"
      ]
    },
    {
      "cell_type": "code",
      "execution_count": null,
      "metadata": {
        "id": "6V3cDL4G4WMF"
      },
      "outputs": [],
      "source": [
        "(x_train, y_train), (x_test, y_test) = datasets.cifar10.load_data()"
      ]
    },
    {
      "cell_type": "code",
      "execution_count": null,
      "metadata": {
        "colab": {
          "base_uri": "https://localhost:8080/"
        },
        "id": "55_pRpY4yeVd",
        "outputId": "1b04b68c-ce64-4779-c3e8-a121267e5531"
      },
      "outputs": [
        {
          "data": {
            "text/plain": [
              "(50000, 32, 32, 3)"
            ]
          },
          "execution_count": 3,
          "metadata": {},
          "output_type": "execute_result"
        },
        {
          "data": {
            "text/plain": [
              "(50000, 32, 32, 3)"
            ]
          },
          "execution_count": 15,
          "metadata": {},
          "output_type": "execute_result"
        }
      ],
      "source": [
        "x_train.shape"
      ]
    },
    {
      "cell_type": "code",
      "execution_count": null,
      "metadata": {
        "colab": {
          "base_uri": "https://localhost:8080/"
        },
        "id": "lcHxNPByyt2B",
        "outputId": "477b7c56-b308-4963-a12d-7ef2b557ee3a"
      },
      "outputs": [
        {
          "data": {
            "text/plain": [
              "(10000, 32, 32, 3)"
            ]
          },
          "execution_count": 4,
          "metadata": {},
          "output_type": "execute_result"
        },
        {
          "data": {
            "text/plain": [
              "(10000, 32, 32, 3)"
            ]
          },
          "execution_count": 16,
          "metadata": {},
          "output_type": "execute_result"
        }
      ],
      "source": [
        "x_test.shape"
      ]
    },
    {
      "cell_type": "markdown",
      "metadata": {
        "id": "Xqt1zsp16ldQ"
      },
      "source": [
        "0   airplane\n",
        "1   automobile\n",
        "2   bird\n",
        "3   cat\n",
        "4   deer\n",
        "5   dog\n",
        "6   frog\n",
        "7   horse\n",
        "8   ship\n",
        "9   truck"
      ]
    },
    {
      "cell_type": "code",
      "execution_count": null,
      "metadata": {
        "colab": {
          "base_uri": "https://localhost:8080/",
          "height": 550
        },
        "id": "Vq0Ewpop3T6t",
        "outputId": "65719868-d6b3-4e22-ec4d-f53aaadd8c35"
      },
      "outputs": [
        {
          "name": "stdout",
          "output_type": "stream",
          "text": [
            "[1]\n"
          ]
        },
        {
          "data": {
            "image/png": "[encoded data removed]",
            "text/plain": [
              "<Figure size 432x288 with 1 Axes>"
            ]
          },
          "metadata": {},
          "output_type": "display_data"
        },
        {
          "name": "stdout",
          "output_type": "stream",
          "text": [
            "[1]\n"
          ]
        },
        {
          "data": {
            "image/png": "[encoded data removed]",
            "text/plain": [
              "<Figure size 432x288 with 1 Axes>"
            ]
          },
          "metadata": {},
          "output_type": "display_data"
        }
      ],
      "source": [
        "plt.imshow(x_train[5],cmap=\"gray\")\n",
        "print(y_train[5])"
      ]
    },
    {
      "cell_type": "code",
      "execution_count": null,
      "metadata": {
        "colab": {
          "base_uri": "https://localhost:8080/"
        },
        "id": "SYay648d3REP",
        "outputId": "21d95133-9ed4-4ee6-890e-dcda61fc1731"
      },
      "outputs": [
        {
          "name": "stdout",
          "output_type": "stream",
          "text": [
            "[0. 0. 0. 0. 0. 0. 1. 0. 0. 0.]\n",
            "[0. 0. 0. 0. 0. 0. 1. 0. 0. 0.]\n"
          ]
        }
      ],
      "source": [
        "#Convert the labels into one-hot codes.\n",
        "num_classes = 10\n",
        "y_train = keras.utils.to_categorical(y_train, num_classes)\n",
        "y_test = keras.utils.to_categorical(y_test, num_classes)\n",
        "print(y_train[0])"
      ]
    },
    {
      "cell_type": "code",
      "execution_count": null,
      "metadata": {
        "id": "vt9t37WrhWy8"
      },
      "outputs": [],
      "source": [
        "#Normalize image pixel values.\n",
        "x_train = x_train/255\n",
        "x_test = x_test/255"
      ]
    },
    {
      "cell_type": "code",
      "execution_count": null,
      "metadata": {
        "colab": {
          "base_uri": "https://localhost:8080/"
        },
        "id": "ORom-RTJZ-kp",
        "outputId": "629a22f7-0c0a-47df-8330-278b30df601f"
      },
      "outputs": [
        {
          "name": "stdout",
          "output_type": "stream",
          "text": [
            "Model: \"sequential\"\n",
            "_________________________________________________________________\n",
            " Layer (type)                Output Shape              Param #   \n",
            "=================================================================\n",
            " conv2d (Conv2D)             (None, 8, 8, 96)          34944     \n",
            "                                                                 \n",
            " average_pooling2d (AverageP  (None, 4, 4, 96)         0         \n",
            " ooling2D)                                                       \n",
            "                                                                 \n",
            " conv2d_1 (Conv2D)           (None, 4, 4, 256)         614656    \n",
            "                                                                 \n",
            " average_pooling2d_1 (Averag  (None, 2, 2, 256)        0         \n",
            " ePooling2D)                                                     \n",
            "                                                                 \n",
            " conv2d_2 (Conv2D)           (None, 2, 2, 384)         885120    \n",
            "                                                                 \n",
            " conv2d_3 (Conv2D)           (None, 2, 2, 384)         1327488   \n",
            "                                                                 \n",
            " conv2d_4 (Conv2D)           (None, 2, 2, 256)         884992    \n",
            "                                                                 \n",
            " average_pooling2d_2 (Averag  (None, 1, 1, 256)        0         \n",
            " ePooling2D)                                                     \n",
            "                                                                 \n",
            " flatten (Flatten)           (None, 256)               0         \n",
            "                                                                 \n",
            " dropout (Dropout)           (None, 256)               0         \n",
            "                                                                 \n",
            " dense (Dense)               (None, 4096)              1052672   \n",
            "                                                                 \n",
            " dropout_1 (Dropout)         (None, 4096)              0         \n",
            "                                                                 \n",
            " dense_1 (Dense)             (None, 4096)              16781312  \n",
            "                                                                 \n",
            " dense_2 (Dense)             (None, 10)                40970     \n",
            "                                                                 \n",
            "=================================================================\n",
            "Total params: 21,622,154\n",
            "Trainable params: 21,622,154\n",
            "Non-trainable params: 0\n",
            "_________________________________________________________________\n",
            "Model: \"sequential_1\"\n",
            "_________________________________________________________________\n",
            " Layer (type)                Output Shape              Param #   \n",
            "=================================================================\n",
            " conv2d_5 (Conv2D)           (None, 8, 8, 96)          34944     \n",
            "                                                                 \n",
            " average_pooling2d_3 (Averag  (None, 4, 4, 96)         0         \n",
            " ePooling2D)                                                     \n",
            "                                                                 \n",
            " conv2d_6 (Conv2D)           (None, 4, 4, 256)         614656    \n",
            "                                                                 \n",
            " average_pooling2d_4 (Averag  (None, 2, 2, 256)        0         \n",
            " ePooling2D)                                                     \n",
            "                                                                 \n",
            " conv2d_7 (Conv2D)           (None, 2, 2, 384)         885120    \n",
            "                                                                 \n",
            " conv2d_8 (Conv2D)           (None, 2, 2, 384)         1327488   \n",
            "                                                                 \n",
            " conv2d_9 (Conv2D)           (None, 2, 2, 256)         884992    \n",
            "                                                                 \n",
            " average_pooling2d_5 (Averag  (None, 1, 1, 256)        0         \n",
            " ePooling2D)                                                     \n",
            "                                                                 \n",
            " flatten_1 (Flatten)         (None, 256)               0         \n",
            "                                                                 \n",
            " dropout_2 (Dropout)         (None, 256)               0         \n",
            "                                                                 \n",
            " dense_3 (Dense)             (None, 4096)              1052672   \n",
            "                                                                 \n",
            " dropout_3 (Dropout)         (None, 4096)              0         \n",
            "                                                                 \n",
            " dense_4 (Dense)             (None, 4096)              16781312  \n",
            "                                                                 \n",
            " dense_5 (Dense)             (None, 10)                40970     \n",
            "                                                                 \n",
            "=================================================================\n",
            "Total params: 21,622,154\n",
            "Trainable params: 21,622,154\n",
            "Non-trainable params: 0\n",
            "_________________________________________________________________\n"
          ]
        }
      ],
      "source": [
        "model=keras.Sequential() #Create a network sequence.\n",
        "\n",
        "model.add(Input(shape=(32,32,3)))\n",
        "model.add(Conv2D(filters=96,kernel_size = 11,strides = (4,4), padding = 'same',activation = 'ReLU')) #conv1\n",
        "model.add(keras.layers.AvgPool2D(pool_size=(3,3), strides = (2,2), padding = 'same')) #maxpol1\n",
        "\n",
        "model.add(Conv2D(filters=256,kernel_size = 5,strides = (1,1), padding = 'same',activation = 'ReLU'))#conv2\n",
        "model.add(keras.layers.AvgPool2D(pool_size=(3,3), strides = (2,2), padding = 'same'))#maxpol2\n",
        "\n",
        "model.add(Conv2D(filters=384,kernel_size = 3,strides = (1,1), padding = 'same',activation = 'ReLU'))#conv3\n",
        "model.add(Conv2D(filters=384,kernel_size = 3,strides = (1,1), padding = 'same',activation = 'ReLU'))#conv4\n",
        "model.add(Conv2D(filters=256,kernel_size = 3,strides = (1,1), padding = 'same',activation = 'ReLU'))#conv5\n",
        "model.add(keras.layers.AvgPool2D(pool_size=(3,3), strides = (2,2), padding = 'same'))#maxpol3\n",
        "\n",
        "#model.add(Dropout(0.5))\n",
        "model.add(Flatten())\n",
        "model.add(Dropout(0.5))\n",
        "\n",
        "model.add(Dense(4096,activation = 'ReLU'))\n",
        "model.add(Dropout(0.5))\n",
        "model.add(Dense(4096,activation = 'ReLU'))\n",
        "model.add(Dense(10,activation = 'softmax'))\n",
        "\n",
        "model.summary()"
      ]
    },
    {
      "cell_type": "code",
      "execution_count": null,
      "metadata": {
        "colab": {
          "background_save": true,
          "base_uri": "https://localhost:8080/"
        },
        "id": "skMSXinVhSPV",
        "outputId": "a4ef318a-f485-4c72-e476-44d4b5bc9577"
      },
      "outputs": [
        {
          "name": "stdout",
          "output_type": "stream",
          "text": [
            "Epoch 1/20\n",
            "391/391 [==============================] - 25s 62ms/step - loss: 2.2978 - accuracy: 0.1092 - val_loss: 2.3043 - val_accuracy: 0.1000\n",
            "Epoch 2/20\n",
            "391/391 [==============================] - 24s 61ms/step - loss: 2.1665 - accuracy: 0.1666 - val_loss: 2.0925 - val_accuracy: 0.1924\n",
            "Epoch 3/20\n",
            "391/391 [==============================] - 24s 61ms/step - loss: 1.9810 - accuracy: 0.2408 - val_loss: 1.9565 - val_accuracy: 0.2715\n",
            "Epoch 4/20\n",
            "391/391 [==============================] - 25s 64ms/step - loss: 1.8679 - accuracy: 0.2851 - val_loss: 1.8540 - val_accuracy: 0.2938\n",
            "Epoch 5/20\n",
            "391/391 [==============================] - 25s 64ms/step - loss: 1.7463 - accuracy: 0.3365 - val_loss: 1.6568 - val_accuracy: 0.3788\n",
            "Epoch 6/20\n",
            "391/391 [==============================] - 24s 61ms/step - loss: 1.6685 - accuracy: 0.3780 - val_loss: 1.5696 - val_accuracy: 0.4134\n",
            "Epoch 7/20\n",
            "391/391 [==============================] - 25s 64ms/step - loss: 1.6034 - accuracy: 0.4122 - val_loss: 1.5386 - val_accuracy: 0.4365\n",
            "Epoch 8/20\n",
            "391/391 [==============================] - 25s 64ms/step - loss: 1.5259 - accuracy: 0.4463 - val_loss: 1.5194 - val_accuracy: 0.4458\n",
            "Epoch 9/20\n",
            "391/391 [==============================] - 24s 61ms/step - loss: 1.4691 - accuracy: 0.4724 - val_loss: 1.4344 - val_accuracy: 0.4879\n",
            "Epoch 10/20\n",
            "391/391 [==============================] - 24s 60ms/step - loss: 1.4179 - accuracy: 0.4932 - val_loss: 1.4336 - val_accuracy: 0.4974\n",
            "Epoch 11/20\n",
            "391/391 [==============================] - 24s 61ms/step - loss: 1.3713 - accuracy: 0.5123 - val_loss: 1.3627 - val_accuracy: 0.5110\n",
            "Epoch 12/20\n",
            "391/391 [==============================] - 25s 64ms/step - loss: 1.3343 - accuracy: 0.5278 - val_loss: 1.3531 - val_accuracy: 0.5218\n",
            "Epoch 13/20\n",
            "391/391 [==============================] - 24s 61ms/step - loss: 1.3003 - accuracy: 0.5380 - val_loss: 1.3185 - val_accuracy: 0.5340\n",
            "Epoch 14/20\n",
            "391/391 [==============================] - 24s 61ms/step - loss: 1.2592 - accuracy: 0.5569 - val_loss: 1.3007 - val_accuracy: 0.5378\n",
            "Epoch 15/20\n",
            "391/391 [==============================] - 24s 61ms/step - loss: 1.2289 - accuracy: 0.5650 - val_loss: 1.3062 - val_accuracy: 0.5402\n",
            "Epoch 16/20\n",
            "391/391 [==============================] - 25s 64ms/step - loss: 1.1848 - accuracy: 0.5871 - val_loss: 1.3113 - val_accuracy: 0.5334\n",
            "Epoch 17/20\n",
            "391/391 [==============================] - 24s 61ms/step - loss: 1.1492 - accuracy: 0.5997 - val_loss: 1.2634 - val_accuracy: 0.5584\n",
            "Epoch 18/20\n",
            "391/391 [==============================] - 25s 64ms/step - loss: 1.1066 - accuracy: 0.6142 - val_loss: 1.2791 - val_accuracy: 0.5451\n",
            "Epoch 19/20\n",
            "391/391 [==============================] - 24s 60ms/step - loss: 1.0709 - accuracy: 0.6273 - val_loss: 1.2297 - val_accuracy: 0.5692\n",
            "Epoch 20/20\n",
            "391/391 [==============================] - 24s 60ms/step - loss: 1.0276 - accuracy: 0.6400 - val_loss: 1.2583 - val_accuracy: 0.5643\n"
          ]
        }
      ],
      "source": [
        "model.compile(optimizer = keras.optimizers.SGD(learning_rate=0.1, momentum=0.9),loss=\"categorical_crossentropy\",metrics=['accuracy']) \n",
        "#opt = tf.keras.optimizers.SGD(learning_rate=0.1, momentum=0.9)\n",
        "#model.compile(optimizer=keras.optimizers.Adam(),loss=\"categorical_crossentropy\",metrics=['accuracy']) \n",
        "results= model.fit(x_train,y_train,epochs=20,batch_size=128,validation_data=(x_test, y_test))\n",
        "#Learning_rate=0.01,mometum=0.9\n"
      ]
    },
    {
      "cell_type": "code",
      "execution_count": null,
      "metadata": {
        "colab": {
          "background_save": true,
          "base_uri": "https://localhost:8080/"
        },
        "id": "eQsuIhTzk3fE",
        "outputId": "7bed88b5-0f40-4dca-c96e-ed6c0780589a"
      },
      "outputs": [
        {
          "name": "stdout",
          "output_type": "stream",
          "text": [
            "313/313 [==============================] - 3s 11ms/step - loss: 1.2583 - accuracy: 0.5643\n"
          ]
        }
      ],
      "source": [
        "score = model.evaluate(x_test, y_test)\n"
      ]
    },
    {
      "cell_type": "code",
      "execution_count": null,
      "metadata": {
        "colab": {
          "background_save": true,
          "base_uri": "https://localhost:8080/",
          "height": 296
        },
        "id": "lrxn2f3Nr06H",
        "outputId": "e2bbb7e0-790e-4583-a433-bacba962ef6d"
      },
      "outputs": [
        {
          "name": "stdout",
          "output_type": "stream",
          "text": [
            "313/313 [==============================] - 3s 11ms/step - loss: 1.2583 - accuracy: 0.5643\n"
          ]
        },
        {
          "data": {
            "image/png": "[encoded data removed]",
            "text/plain": [
              "<Figure size 432x288 with 1 Axes>"
            ]
          },
          "metadata": {},
          "output_type": "display_data"
        }
      ],
      "source": [
        "plt.plot(results.history['accuracy'], label='accuracy')\n",
        "plt.plot(results.history['val_accuracy'], label = 'val_accuracy')\n",
        "plt.xlabel('Epoch')\n",
        "plt.ylabel('Accuracy')\n",
        "#plt.ylim([0.5, 1])\n",
        "plt.legend(loc='lower right')\n",
        "\n",
        "test_loss, test_acc = model.evaluate(x_test,  y_test)"
      ]
    },
    {
      "cell_type": "code",
      "execution_count": null,
      "metadata": {
        "colab": {
          "background_save": true,
          "base_uri": "https://localhost:8080/",
          "height": 296
        },
        "id": "qSo-cJafY0wF",
        "outputId": "b55a9042-8c8d-401e-d826-c6521236132d"
      },
      "outputs": [
        {
          "name": "stdout",
          "output_type": "stream",
          "text": [
            "313/313 [==============================] - 3s 11ms/step - loss: 1.2583 - accuracy: 0.5643\n"
          ]
        },
        {
          "data": {
            "image/png": "[encoded data removed]",
            "text/plain": [
              "<Figure size 432x288 with 1 Axes>"
            ]
          },
          "metadata": {},
          "output_type": "display_data"
        }
      ],
      "source": [
        "plt.plot(results.history['loss'], label='loss')\n",
        "plt.plot(results.history['val_loss'], label = 'val_loss')\n",
        "plt.xlabel('Epoch')\n",
        "plt.ylabel('loss')\n",
        "#plt.ylim([0.5, 1])\n",
        "plt.legend(loc='lower right')\n",
        "\n",
        "test_loss, test_acc = model.evaluate(x_test,  y_test)"
      ]
    }
  ],
  "metadata": {
    "accelerator": "GPU",
    "colab": {
      "collapsed_sections": [],
      "name": "CNN/Cifar 10 using alexnet",
      "provenance": []
    },
    "kernelspec": {
      "display_name": "Python 3",
      "name": "python3"
    },
    "language_info": {
      "name": "python"
    }
  },
  "nbformat": 4,
  "nbformat_minor": 0
}