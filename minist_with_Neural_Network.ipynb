{
  "nbformat": 4,
  "nbformat_minor": 0,
  "metadata": {
    "colab": {
      "name": " minist with  Neural Network",
      "provenance": [],
      "collapsed_sections": []
    },
    "kernelspec": {
      "name": "python3",
      "display_name": "Python 3"
    },
    "accelerator": "GPU"
  },
  "cells": [
    {
      "cell_type": "code",
      "metadata": {
        "colab": {
          "base_uri": "https://localhost:8080/"
        },
        "id": "5NDNcqKFm8QT",
        "outputId": "13467caf-e287-4012-854a-ee79a8ef9850"
      },
      "source": [
        "import numpy as np\n",
        "from tensorflow import keras\n",
        "from keras.models import Sequential\n",
        "from keras.layers import Dense\n",
        "print (keras.__version__)"
      ],
      "execution_count": null,
      "outputs": [
        {
          "output_type": "stream",
          "name": "stdout",
          "text": [
            "2.8.0\n"
          ]
        }
      ]
    },
    {
      "cell_type": "code",
      "metadata": {
        "colab": {
          "base_uri": "https://localhost:8080/"
        },
        "id": "XKv6pUV1m9sg",
        "outputId": "c870f670-1f3d-4b48-e204-3eed95c2ddf5"
      },
      "source": [
        "from keras.datasets import mnist\n",
        "\n",
        "#We import data into variables and check their shape.\n",
        "\n",
        "(x_train, y_train), (x_test, y_test) = mnist.load_data()\n",
        "x_train.shape"
      ],
      "execution_count": null,
      "outputs": [
        {
          "output_type": "stream",
          "name": "stdout",
          "text": [
            "Downloading data from https://storage.googleapis.com/tensorflow/tf-keras-datasets/mnist.npz\n",
            "11493376/11490434 [==============================] - 0s 0us/step\n",
            "11501568/11490434 [==============================] - 0s 0us/step\n"
          ]
        },
        {
          "output_type": "execute_result",
          "data": {
            "text/plain": [
              "(60000, 28, 28)"
            ]
          },
          "metadata": {},
          "execution_count": 2
        }
      ]
    },
    {
      "cell_type": "code",
      "metadata": {
        "colab": {
          "base_uri": "https://localhost:8080/"
        },
        "id": "G8JKbHbboBxK",
        "outputId": "da1eb5a9-352e-4614-ba64-d04a6d8b2baf"
      },
      "source": [
        "y_train.shape"
      ],
      "execution_count": null,
      "outputs": [
        {
          "output_type": "execute_result",
          "data": {
            "text/plain": [
              "(60000,)"
            ]
          },
          "metadata": {},
          "execution_count": 3
        }
      ]
    },
    {
      "cell_type": "code",
      "source": [
        "x_train"
      ],
      "metadata": {
        "id": "errI2kdPjGwI",
        "colab": {
          "base_uri": "https://localhost:8080/"
        },
        "outputId": "f66f8bb5-18e0-4d64-99c0-47b36f0456e8"
      },
      "execution_count": null,
      "outputs": [
        {
          "output_type": "execute_result",
          "data": {
            "text/plain": [
              "array([[[0, 0, 0, ..., 0, 0, 0],\n",
              "        [0, 0, 0, ..., 0, 0, 0],\n",
              "        [0, 0, 0, ..., 0, 0, 0],\n",
              "        ...,\n",
              "        [0, 0, 0, ..., 0, 0, 0],\n",
              "        [0, 0, 0, ..., 0, 0, 0],\n",
              "        [0, 0, 0, ..., 0, 0, 0]],\n",
              "\n",
              "       [[0, 0, 0, ..., 0, 0, 0],\n",
              "        [0, 0, 0, ..., 0, 0, 0],\n",
              "        [0, 0, 0, ..., 0, 0, 0],\n",
              "        ...,\n",
              "        [0, 0, 0, ..., 0, 0, 0],\n",
              "        [0, 0, 0, ..., 0, 0, 0],\n",
              "        [0, 0, 0, ..., 0, 0, 0]],\n",
              "\n",
              "       [[0, 0, 0, ..., 0, 0, 0],\n",
              "        [0, 0, 0, ..., 0, 0, 0],\n",
              "        [0, 0, 0, ..., 0, 0, 0],\n",
              "        ...,\n",
              "        [0, 0, 0, ..., 0, 0, 0],\n",
              "        [0, 0, 0, ..., 0, 0, 0],\n",
              "        [0, 0, 0, ..., 0, 0, 0]],\n",
              "\n",
              "       ...,\n",
              "\n",
              "       [[0, 0, 0, ..., 0, 0, 0],\n",
              "        [0, 0, 0, ..., 0, 0, 0],\n",
              "        [0, 0, 0, ..., 0, 0, 0],\n",
              "        ...,\n",
              "        [0, 0, 0, ..., 0, 0, 0],\n",
              "        [0, 0, 0, ..., 0, 0, 0],\n",
              "        [0, 0, 0, ..., 0, 0, 0]],\n",
              "\n",
              "       [[0, 0, 0, ..., 0, 0, 0],\n",
              "        [0, 0, 0, ..., 0, 0, 0],\n",
              "        [0, 0, 0, ..., 0, 0, 0],\n",
              "        ...,\n",
              "        [0, 0, 0, ..., 0, 0, 0],\n",
              "        [0, 0, 0, ..., 0, 0, 0],\n",
              "        [0, 0, 0, ..., 0, 0, 0]],\n",
              "\n",
              "       [[0, 0, 0, ..., 0, 0, 0],\n",
              "        [0, 0, 0, ..., 0, 0, 0],\n",
              "        [0, 0, 0, ..., 0, 0, 0],\n",
              "        ...,\n",
              "        [0, 0, 0, ..., 0, 0, 0],\n",
              "        [0, 0, 0, ..., 0, 0, 0],\n",
              "        [0, 0, 0, ..., 0, 0, 0]]], dtype=uint8)"
            ]
          },
          "metadata": {},
          "execution_count": 4
        }
      ]
    },
    {
      "cell_type": "code",
      "metadata": {
        "colab": {
          "base_uri": "https://localhost:8080/"
        },
        "id": "kbLwTYk5oB0H",
        "outputId": "f483bff3-f718-433c-e3e3-f7703eba7a2b"
      },
      "source": [
        "y_train[0:10]"
      ],
      "execution_count": null,
      "outputs": [
        {
          "output_type": "execute_result",
          "data": {
            "text/plain": [
              "array([5, 0, 4, 1, 9, 2, 1, 3, 1, 4], dtype=uint8)"
            ]
          },
          "metadata": {},
          "execution_count": 5
        }
      ]
    },
    {
      "cell_type": "code",
      "metadata": {
        "colab": {
          "base_uri": "https://localhost:8080/"
        },
        "id": "RJNswhHkoB89",
        "outputId": "d3f30689-5fc4-46bb-ecc1-2a4db5c14568"
      },
      "source": [
        "#we need to flatten data into two dimensions only: index and flattened image data (28 * 28 = 784).\n",
        "\n",
        "x_train_final = x_train.reshape((-1, 784))\n",
        "x_train_final.shape"
      ],
      "execution_count": null,
      "outputs": [
        {
          "output_type": "execute_result",
          "data": {
            "text/plain": [
              "(60000, 784)"
            ]
          },
          "metadata": {},
          "execution_count": 6
        }
      ]
    },
    {
      "cell_type": "code",
      "metadata": {
        "id": "kqk5lrgkovJI"
      },
      "source": [
        "x_test_final = x_test.reshape((-1, 784))\n"
      ],
      "execution_count": null,
      "outputs": []
    },
    {
      "cell_type": "code",
      "metadata": {
        "id": "VqgGpBjAovL3"
      },
      "source": [
        "#The last element of data preprocessing is their normalization.\n",
        "\n",
        "x_train_final = x_train_final / 255\n",
        "x_test_final = x_test_final / 255"
      ],
      "execution_count": null,
      "outputs": []
    },
    {
      "cell_type": "code",
      "metadata": {
        "id": "-_lIWZaeovOR"
      },
      "source": [
        "model = keras.Sequential()\n",
        "model.add(Dense(512, input_shape=(784,), activation='relu'))\n",
        "model.add(Dense(10,activation='softmax'))\n",
        "\n",
        "\n",
        "\n"
      ],
      "execution_count": null,
      "outputs": []
    },
    {
      "cell_type": "code",
      "metadata": {
        "id": "_oPxy8UBpmJ2"
      },
      "source": [
        "model.compile(optimizer='sgd', loss='sparse_categorical_crossentropy', metrics=['accuracy'])"
      ],
      "execution_count": null,
      "outputs": []
    },
    {
      "cell_type": "code",
      "metadata": {
        "id": "sTTGaqADpmMt",
        "colab": {
          "base_uri": "https://localhost:8080/"
        },
        "outputId": "5657bbf1-e0bf-489f-c836-d89e76938235"
      },
      "source": [
        "results= model.fit(\n",
        "  x=x_train_final,\n",
        "  y=y_train,\n",
        "  shuffle=True,\n",
        "  epochs=50,\n",
        "  validation_data = (x_test_final,y_test),\n",
        "\n",
        "  batch_size=16\n",
        ")\n"
      ],
      "execution_count": null,
      "outputs": [
        {
          "output_type": "stream",
          "name": "stdout",
          "text": [
            "Epoch 1/50\n",
            "3750/3750 [==============================] - 19s 4ms/step - loss: 0.4637 - accuracy: 0.8800 - val_loss: 0.2780 - val_accuracy: 0.9253\n",
            "Epoch 2/50\n",
            "3750/3750 [==============================] - 12s 3ms/step - loss: 0.2614 - accuracy: 0.9272 - val_loss: 0.2218 - val_accuracy: 0.9375\n",
            "Epoch 3/50\n",
            "3750/3750 [==============================] - 12s 3ms/step - loss: 0.2139 - accuracy: 0.9400 - val_loss: 0.1911 - val_accuracy: 0.9457\n",
            "Epoch 4/50\n",
            "3750/3750 [==============================] - 11s 3ms/step - loss: 0.1823 - accuracy: 0.9495 - val_loss: 0.1668 - val_accuracy: 0.9525\n",
            "Epoch 5/50\n",
            "3750/3750 [==============================] - 12s 3ms/step - loss: 0.1590 - accuracy: 0.9556 - val_loss: 0.1522 - val_accuracy: 0.9554\n",
            "Epoch 6/50\n",
            "3750/3750 [==============================] - 12s 3ms/step - loss: 0.1413 - accuracy: 0.9615 - val_loss: 0.1386 - val_accuracy: 0.9590\n",
            "Epoch 7/50\n",
            "3750/3750 [==============================] - 12s 3ms/step - loss: 0.1268 - accuracy: 0.9651 - val_loss: 0.1244 - val_accuracy: 0.9632\n",
            "Epoch 8/50\n",
            "3750/3750 [==============================] - 12s 3ms/step - loss: 0.1150 - accuracy: 0.9683 - val_loss: 0.1170 - val_accuracy: 0.9662\n",
            "Epoch 9/50\n",
            "3750/3750 [==============================] - 12s 3ms/step - loss: 0.1051 - accuracy: 0.9714 - val_loss: 0.1115 - val_accuracy: 0.9675\n",
            "Epoch 10/50\n",
            "3750/3750 [==============================] - 12s 3ms/step - loss: 0.0970 - accuracy: 0.9740 - val_loss: 0.1018 - val_accuracy: 0.9692\n",
            "Epoch 11/50\n",
            "3750/3750 [==============================] - 11s 3ms/step - loss: 0.0895 - accuracy: 0.9759 - val_loss: 0.0984 - val_accuracy: 0.9701\n",
            "Epoch 12/50\n",
            "3750/3750 [==============================] - 12s 3ms/step - loss: 0.0834 - accuracy: 0.9774 - val_loss: 0.0934 - val_accuracy: 0.9715\n",
            "Epoch 13/50\n",
            "3750/3750 [==============================] - 12s 3ms/step - loss: 0.0776 - accuracy: 0.9790 - val_loss: 0.0900 - val_accuracy: 0.9738\n",
            "Epoch 14/50\n",
            "3750/3750 [==============================] - 12s 3ms/step - loss: 0.0728 - accuracy: 0.9804 - val_loss: 0.0860 - val_accuracy: 0.9732\n",
            "Epoch 15/50\n",
            "3750/3750 [==============================] - 12s 3ms/step - loss: 0.0682 - accuracy: 0.9820 - val_loss: 0.0841 - val_accuracy: 0.9741\n",
            "Epoch 16/50\n",
            "3750/3750 [==============================] - 12s 3ms/step - loss: 0.0641 - accuracy: 0.9831 - val_loss: 0.0848 - val_accuracy: 0.9735\n",
            "Epoch 17/50\n",
            "3750/3750 [==============================] - 12s 3ms/step - loss: 0.0606 - accuracy: 0.9843 - val_loss: 0.0789 - val_accuracy: 0.9748\n",
            "Epoch 18/50\n",
            "3750/3750 [==============================] - 12s 3ms/step - loss: 0.0572 - accuracy: 0.9852 - val_loss: 0.0772 - val_accuracy: 0.9763\n",
            "Epoch 19/50\n",
            "3750/3750 [==============================] - 12s 3ms/step - loss: 0.0543 - accuracy: 0.9862 - val_loss: 0.0765 - val_accuracy: 0.9756\n",
            "Epoch 20/50\n",
            "3750/3750 [==============================] - 12s 3ms/step - loss: 0.0514 - accuracy: 0.9871 - val_loss: 0.0731 - val_accuracy: 0.9767\n",
            "Epoch 21/50\n",
            "3750/3750 [==============================] - 11s 3ms/step - loss: 0.0487 - accuracy: 0.9879 - val_loss: 0.0722 - val_accuracy: 0.9776\n",
            "Epoch 22/50\n",
            "3750/3750 [==============================] - 12s 3ms/step - loss: 0.0463 - accuracy: 0.9881 - val_loss: 0.0719 - val_accuracy: 0.9769\n",
            "Epoch 23/50\n",
            "3750/3750 [==============================] - 11s 3ms/step - loss: 0.0441 - accuracy: 0.9893 - val_loss: 0.0726 - val_accuracy: 0.9776\n",
            "Epoch 24/50\n",
            "3750/3750 [==============================] - 11s 3ms/step - loss: 0.0421 - accuracy: 0.9899 - val_loss: 0.0690 - val_accuracy: 0.9785\n",
            "Epoch 25/50\n",
            "3750/3750 [==============================] - 12s 3ms/step - loss: 0.0403 - accuracy: 0.9904 - val_loss: 0.0688 - val_accuracy: 0.9790\n",
            "Epoch 26/50\n",
            "3750/3750 [==============================] - 12s 3ms/step - loss: 0.0382 - accuracy: 0.9909 - val_loss: 0.0667 - val_accuracy: 0.9784\n",
            "Epoch 27/50\n",
            "3750/3750 [==============================] - 12s 3ms/step - loss: 0.0366 - accuracy: 0.9917 - val_loss: 0.0702 - val_accuracy: 0.9780\n",
            "Epoch 28/50\n",
            "3750/3750 [==============================] - 11s 3ms/step - loss: 0.0350 - accuracy: 0.9922 - val_loss: 0.0661 - val_accuracy: 0.9787\n",
            "Epoch 29/50\n",
            "3750/3750 [==============================] - 12s 3ms/step - loss: 0.0334 - accuracy: 0.9925 - val_loss: 0.0655 - val_accuracy: 0.9791\n",
            "Epoch 30/50\n",
            "3750/3750 [==============================] - 11s 3ms/step - loss: 0.0320 - accuracy: 0.9931 - val_loss: 0.0651 - val_accuracy: 0.9796\n",
            "Epoch 31/50\n",
            "3750/3750 [==============================] - 11s 3ms/step - loss: 0.0307 - accuracy: 0.9932 - val_loss: 0.0637 - val_accuracy: 0.9799\n",
            "Epoch 32/50\n",
            "3750/3750 [==============================] - 12s 3ms/step - loss: 0.0294 - accuracy: 0.9937 - val_loss: 0.0639 - val_accuracy: 0.9792\n",
            "Epoch 33/50\n",
            "3750/3750 [==============================] - 11s 3ms/step - loss: 0.0283 - accuracy: 0.9940 - val_loss: 0.0634 - val_accuracy: 0.9794\n",
            "Epoch 34/50\n",
            "3750/3750 [==============================] - 11s 3ms/step - loss: 0.0270 - accuracy: 0.9946 - val_loss: 0.0639 - val_accuracy: 0.9797\n",
            "Epoch 35/50\n",
            "3750/3750 [==============================] - 11s 3ms/step - loss: 0.0259 - accuracy: 0.9952 - val_loss: 0.0624 - val_accuracy: 0.9794\n",
            "Epoch 36/50\n",
            "3750/3750 [==============================] - 11s 3ms/step - loss: 0.0249 - accuracy: 0.9953 - val_loss: 0.0622 - val_accuracy: 0.9799\n",
            "Epoch 37/50\n",
            "3750/3750 [==============================] - 12s 3ms/step - loss: 0.0240 - accuracy: 0.9955 - val_loss: 0.0623 - val_accuracy: 0.9801\n",
            "Epoch 38/50\n",
            "3750/3750 [==============================] - 12s 3ms/step - loss: 0.0231 - accuracy: 0.9957 - val_loss: 0.0620 - val_accuracy: 0.9805\n",
            "Epoch 39/50\n",
            "3750/3750 [==============================] - 11s 3ms/step - loss: 0.0221 - accuracy: 0.9962 - val_loss: 0.0613 - val_accuracy: 0.9803\n",
            "Epoch 40/50\n",
            "3750/3750 [==============================] - 11s 3ms/step - loss: 0.0214 - accuracy: 0.9965 - val_loss: 0.0614 - val_accuracy: 0.9804\n",
            "Epoch 41/50\n",
            "3750/3750 [==============================] - 12s 3ms/step - loss: 0.0206 - accuracy: 0.9968 - val_loss: 0.0607 - val_accuracy: 0.9801\n",
            "Epoch 42/50\n",
            "3750/3750 [==============================] - 12s 3ms/step - loss: 0.0199 - accuracy: 0.9969 - val_loss: 0.0606 - val_accuracy: 0.9811\n",
            "Epoch 43/50\n",
            "3750/3750 [==============================] - 12s 3ms/step - loss: 0.0192 - accuracy: 0.9969 - val_loss: 0.0601 - val_accuracy: 0.9806\n",
            "Epoch 44/50\n",
            "3750/3750 [==============================] - 11s 3ms/step - loss: 0.0184 - accuracy: 0.9973 - val_loss: 0.0604 - val_accuracy: 0.9800\n",
            "Epoch 45/50\n",
            "3750/3750 [==============================] - 12s 3ms/step - loss: 0.0178 - accuracy: 0.9975 - val_loss: 0.0595 - val_accuracy: 0.9809\n",
            "Epoch 46/50\n",
            "3750/3750 [==============================] - 12s 3ms/step - loss: 0.0172 - accuracy: 0.9976 - val_loss: 0.0595 - val_accuracy: 0.9806\n",
            "Epoch 47/50\n",
            "3750/3750 [==============================] - 11s 3ms/step - loss: 0.0167 - accuracy: 0.9979 - val_loss: 0.0597 - val_accuracy: 0.9806\n",
            "Epoch 48/50\n",
            "3750/3750 [==============================] - 11s 3ms/step - loss: 0.0160 - accuracy: 0.9980 - val_loss: 0.0606 - val_accuracy: 0.9807\n",
            "Epoch 49/50\n",
            "3750/3750 [==============================] - 12s 3ms/step - loss: 0.0156 - accuracy: 0.9980 - val_loss: 0.0591 - val_accuracy: 0.9813\n",
            "Epoch 50/50\n",
            "3750/3750 [==============================] - 11s 3ms/step - loss: 0.0150 - accuracy: 0.9983 - val_loss: 0.0593 - val_accuracy: 0.9811\n"
          ]
        }
      ]
    },
    {
      "cell_type": "code",
      "source": [
        "import matplotlib.pyplot as plt\n",
        "\n",
        "plt.plot(results.history['loss'])\n",
        "plt.plot(results.history['val_loss'])\n",
        "\n",
        "plt.title('Model loss')\n",
        "plt.ylabel('loss')\n",
        "\n",
        "plt.xlabel('Epoch')\n",
        "plt.legend(['Train', 'Test'], loc='upper right')\n",
        "\n",
        "plt.show()"
      ],
      "metadata": {
        "colab": {
          "base_uri": "https://localhost:8080/",
          "height": 295
        },
        "id": "G6fNwu-oi6PN",
        "outputId": "f8e49171-3b03-4279-a4bb-669f1256379b"
      },
      "execution_count": null,
      "outputs": [
        {
          "output_type": "display_data",
          "data": {
            "text/plain": [
              "<Figure size 432x288 with 1 Axes>"
            ],
            "image/png": "[encoded data removed]"
          },
          "metadata": {
            "needs_background": "light"
          }
        }
      ]
    },
    {
      "cell_type": "code",
      "metadata": {
        "colab": {
          "base_uri": "https://localhost:8080/"
        },
        "id": "R42mRw_MpmUY",
        "outputId": "1002fbed-c7fa-4743-f22a-597d128b1d2e"
      },
      "source": [
        "eval = model.evaluate(x=x_test_final, y=y_test)"
      ],
      "execution_count": null,
      "outputs": [
        {
          "output_type": "stream",
          "name": "stdout",
          "text": [
            "313/313 [==============================] - 1s 4ms/step - loss: 0.0593 - accuracy: 0.9811\n"
          ]
        }
      ]
    },
    {
      "cell_type": "code",
      "source": [
        "print(y_train[5])\n",
        "\n",
        "plt.imshow(x_train[1, ])\n",
        "plt.colorbar()"
      ],
      "metadata": {
        "colab": {
          "base_uri": "https://localhost:8080/",
          "height": 301
        },
        "id": "nZc3H0CqN5wx",
        "outputId": "a67d91ca-d0e5-4a9b-898b-a7b2037eed34"
      },
      "execution_count": null,
      "outputs": [
        {
          "output_type": "stream",
          "name": "stdout",
          "text": [
            "2\n"
          ]
        },
        {
          "output_type": "execute_result",
          "data": {
            "text/plain": [
              "<matplotlib.colorbar.Colorbar at 0x7f0f690e3950>"
            ]
          },
          "metadata": {},
          "execution_count": 16
        },
        {
          "output_type": "display_data",
          "data": {
            "text/plain": [
              "<Figure size 432x288 with 2 Axes>"
            ],
            "image/png": "[encoded data removed]"
          },
          "metadata": {
            "needs_background": "light"
          }
        }
      ]
    },
    {
      "cell_type": "code",
      "source": [
        "plt.imshow(x_test[0],cmap=\"gray\")\n",
        "print(y_test[5])"
      ],
      "metadata": {
        "colab": {
          "base_uri": "https://localhost:8080/",
          "height": 284
        },
        "id": "InXwPsBs00Z3",
        "outputId": "f72b0b3c-3203-4a34-c2ba-49e47763af8b"
      },
      "execution_count": null,
      "outputs": [
        {
          "output_type": "stream",
          "name": "stdout",
          "text": [
            "1\n"
          ]
        },
        {
          "output_type": "display_data",
          "data": {
            "text/plain": [
              "<Figure size 432x288 with 1 Axes>"
            ],
            "image/png": "[encoded data removed]"
          },
          "metadata": {
            "needs_background": "light"
          }
        }
      ]
    }
  ]
}