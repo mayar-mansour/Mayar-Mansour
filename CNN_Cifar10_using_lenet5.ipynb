{
  "nbformat": 4,
  "nbformat_minor": 0,
  "metadata": {
    "colab": {
      "name": "CNN /Cifar10 using lenet5",
      "provenance": [],
      "collapsed_sections": []
    },
    "kernelspec": {
      "name": "python3",
      "display_name": "Python 3"
    },
    "language_info": {
      "name": "python"
    },
    "accelerator": "GPU"
  },
  "cells": [
    {
      "cell_type": "code",
      "metadata": {
        "id": "HD2Rk-ZDSMVx"
      },
      "source": [
        "from tensorflow import keras\n",
        "from keras.layers import Input, Dense, Dropout,Conv2D, MaxPooling2D, Flatten\n",
        "from tensorflow.keras import  datasets\n",
        "from matplotlib import pyplot as plt"
      ],
      "execution_count": null,
      "outputs": []
    },
    {
      "cell_type": "code",
      "source": [
        "(x_train, y_train), (x_test, y_test) = datasets.cifar10.load_data()"
      ],
      "metadata": {
        "id": "6V3cDL4G4WMF",
        "colab": {
          "base_uri": "https://localhost:8080/"
        },
        "outputId": "456fc002-de66-4fa8-8b6f-0ffe4bd23cda"
      },
      "execution_count": null,
      "outputs": [
        {
          "output_type": "stream",
          "name": "stdout",
          "text": [
            "Downloading data from https://www.cs.toronto.edu/~kriz/cifar-10-python.tar.gz\n",
            "170500096/170498071 [==============================] - 11s 0us/step\n",
            "170508288/170498071 [==============================] - 11s 0us/step\n"
          ]
        }
      ]
    },
    {
      "cell_type": "code",
      "source": [
        "x_train.shape"
      ],
      "metadata": {
        "colab": {
          "base_uri": "https://localhost:8080/"
        },
        "id": "55_pRpY4yeVd",
        "outputId": "200075d0-92d8-4901-d2d3-1addea55e41b"
      },
      "execution_count": null,
      "outputs": [
        {
          "output_type": "execute_result",
          "data": {
            "text/plain": [
              "(50000, 32, 32, 3)"
            ]
          },
          "metadata": {},
          "execution_count": 3
        }
      ]
    },
    {
      "cell_type": "code",
      "source": [
        "x_test.shape"
      ],
      "metadata": {
        "colab": {
          "base_uri": "https://localhost:8080/"
        },
        "id": "lcHxNPByyt2B",
        "outputId": "db812df3-f7d0-4bbd-8d15-b6a7d1dd4829"
      },
      "execution_count": null,
      "outputs": [
        {
          "output_type": "execute_result",
          "data": {
            "text/plain": [
              "(10000, 32, 32, 3)"
            ]
          },
          "metadata": {},
          "execution_count": 4
        }
      ]
    },
    {
      "cell_type": "markdown",
      "source": [
        "0   airplane\n",
        "1   automobile\n",
        "2   bird\n",
        "3   cat\n",
        "4   deer\n",
        "5   dog\n",
        "6   frog\n",
        "7   horse\n",
        "8   ship\n",
        "9   truck"
      ],
      "metadata": {
        "id": "Xqt1zsp16ldQ"
      }
    },
    {
      "cell_type": "code",
      "source": [
        "plt.imshow(x_train[5],cmap=\"gray\")\n",
        "print(y_train[5])"
      ],
      "metadata": {
        "id": "Vq0Ewpop3T6t",
        "colab": {
          "base_uri": "https://localhost:8080/",
          "height": 283
        },
        "outputId": "5fc288ee-dcb3-4744-f1e4-9069248e3b00"
      },
      "execution_count": null,
      "outputs": [
        {
          "output_type": "stream",
          "name": "stdout",
          "text": [
            "[1]\n"
          ]
        },
        {
          "output_type": "display_data",
          "data": {
            "text/plain": [
              "<Figure size 432x288 with 1 Axes>"
            ],
            "image/png": "[encoded data removed]"
          },
          "metadata": {
            "needs_background": "light"
          }
        }
      ]
    },
    {
      "cell_type": "code",
      "source": [
        "#Convert the labels into one-hot codes.\n",
        "num_classes = 10\n",
        "y_train = keras.utils.to_categorical(y_train, num_classes)\n",
        "y_test = keras.utils.to_categorical(y_test, num_classes)\n",
        "print(y_train[0])"
      ],
      "metadata": {
        "colab": {
          "base_uri": "https://localhost:8080/"
        },
        "id": "SYay648d3REP",
        "outputId": "00d4e0c9-b6ca-4757-dd64-e2ef4d83467b"
      },
      "execution_count": null,
      "outputs": [
        {
          "output_type": "stream",
          "name": "stdout",
          "text": [
            "[0. 0. 0. 0. 0. 0. 1. 0. 0. 0.]\n"
          ]
        }
      ]
    },
    {
      "cell_type": "code",
      "metadata": {
        "id": "vt9t37WrhWy8"
      },
      "source": [
        "#Normalize image pixel values.\n",
        "x_train = x_train/255\n",
        "x_test = x_test/255"
      ],
      "execution_count": null,
      "outputs": []
    },
    {
      "cell_type": "code",
      "metadata": {
        "colab": {
          "base_uri": "https://localhost:8080/"
        },
        "id": "ORom-RTJZ-kp",
        "outputId": "f2a4f77a-f7e4-4cf4-f4c4-3a311bf43b4d"
      },
      "source": [
        "model=keras.Sequential() #Create a network sequence.\n",
        "\n",
        "model.add(Input(shape=(32,32,3)))\n",
        "model.add(Conv2D(filters=6,kernel_size = 5,strides = (1,1), padding = 'same',activation = 'tanh'))\n",
        "#model.add(Conv2D(filters=6,kernel_size = 5,strides = (1,1), padding = 'valid',activation = 'relu',input_shape = (32,32,3)))\n",
        "model.add(keras.layers.AvgPool2D(pool_size=(2,2), strides = (2,2), padding = 'same'))\n",
        "\n",
        "model.add(Conv2D(filters=16,kernel_size = 5,strides = (1,1), padding = 'same',activation = 'tanh'))\n",
        "model.add(keras.layers.AvgPool2D(pool_size=(2,2), strides = (2,2), padding = 'same'))\n",
        "model.add(Dropout(0.5))\n",
        "model.add(Conv2D(filters=120,kernel_size = 5,strides = (1,1), padding = 'same',activation = 'tanh'))\n",
        "\n",
        "model.add(Dropout(0.5))\n",
        "model.add(Flatten())\n",
        "model.add(Dense(84,activation = 'tanh'))\n",
        "model.add(Dense(10,activation = 'softmax'))\n",
        "\n",
        "model.summary()"
      ],
      "execution_count": null,
      "outputs": [
        {
          "output_type": "stream",
          "name": "stdout",
          "text": [
            "Model: \"sequential\"\n",
            "_________________________________________________________________\n",
            " Layer (type)                Output Shape              Param #   \n",
            "=================================================================\n",
            " conv2d (Conv2D)             (None, 32, 32, 6)         456       \n",
            "                                                                 \n",
            " average_pooling2d (AverageP  (None, 16, 16, 6)        0         \n",
            " ooling2D)                                                       \n",
            "                                                                 \n",
            " conv2d_1 (Conv2D)           (None, 16, 16, 16)        2416      \n",
            "                                                                 \n",
            " average_pooling2d_1 (Averag  (None, 8, 8, 16)         0         \n",
            " ePooling2D)                                                     \n",
            "                                                                 \n",
            " dropout (Dropout)           (None, 8, 8, 16)          0         \n",
            "                                                                 \n",
            " conv2d_2 (Conv2D)           (None, 8, 8, 120)         48120     \n",
            "                                                                 \n",
            " dropout_1 (Dropout)         (None, 8, 8, 120)         0         \n",
            "                                                                 \n",
            " flatten (Flatten)           (None, 7680)              0         \n",
            "                                                                 \n",
            " dense (Dense)               (None, 84)                645204    \n",
            "                                                                 \n",
            " dense_1 (Dense)             (None, 10)                850       \n",
            "                                                                 \n",
            "=================================================================\n",
            "Total params: 697,046\n",
            "Trainable params: 697,046\n",
            "Non-trainable params: 0\n",
            "_________________________________________________________________\n"
          ]
        }
      ]
    },
    {
      "cell_type": "code",
      "metadata": {
        "id": "skMSXinVhSPV",
        "colab": {
          "base_uri": "https://localhost:8080/"
        },
        "outputId": "6070d174-ce2b-4567-dc8b-76dcddc1381e"
      },
      "source": [
        "model.compile(optimizer='Adam',loss=\"categorical_crossentropy\",metrics=['accuracy']) \n",
        "#model.compile(optimizer=keras.optimizers.Adam(),loss=\"categorical_crossentropy\",metrics=['accuracy']) \n",
        "results= model.fit(x_train,y_train,epochs=20,batch_size=128,validation_data=(x_test, y_test))\n",
        "\n"
      ],
      "execution_count": null,
      "outputs": [
        {
          "output_type": "stream",
          "name": "stdout",
          "text": [
            "Epoch 1/20\n",
            "391/391 [==============================] - 15s 14ms/step - loss: 1.8409 - accuracy: 0.3478 - val_loss: 1.6954 - val_accuracy: 0.4034\n",
            "Epoch 2/20\n",
            "391/391 [==============================] - 5s 13ms/step - loss: 1.6636 - accuracy: 0.4137 - val_loss: 1.5503 - val_accuracy: 0.4482\n",
            "Epoch 3/20\n",
            "391/391 [==============================] - 5s 13ms/step - loss: 1.5548 - accuracy: 0.4499 - val_loss: 1.4751 - val_accuracy: 0.4797\n",
            "Epoch 4/20\n",
            "391/391 [==============================] - 5s 13ms/step - loss: 1.5051 - accuracy: 0.4710 - val_loss: 1.4514 - val_accuracy: 0.4856\n",
            "Epoch 5/20\n",
            "391/391 [==============================] - 5s 13ms/step - loss: 1.4785 - accuracy: 0.4770 - val_loss: 1.4368 - val_accuracy: 0.4917\n",
            "Epoch 6/20\n",
            "391/391 [==============================] - 5s 13ms/step - loss: 1.4594 - accuracy: 0.4828 - val_loss: 1.4087 - val_accuracy: 0.5014\n",
            "Epoch 7/20\n",
            "391/391 [==============================] - 5s 13ms/step - loss: 1.4417 - accuracy: 0.4892 - val_loss: 1.4295 - val_accuracy: 0.4930\n",
            "Epoch 8/20\n",
            "391/391 [==============================] - 6s 14ms/step - loss: 1.4418 - accuracy: 0.4880 - val_loss: 1.4070 - val_accuracy: 0.5013\n",
            "Epoch 9/20\n",
            "391/391 [==============================] - 5s 13ms/step - loss: 1.4391 - accuracy: 0.4895 - val_loss: 1.4330 - val_accuracy: 0.4928\n",
            "Epoch 10/20\n",
            "391/391 [==============================] - 6s 15ms/step - loss: 1.4352 - accuracy: 0.4909 - val_loss: 1.4314 - val_accuracy: 0.4920\n",
            "Epoch 11/20\n",
            "391/391 [==============================] - 7s 17ms/step - loss: 1.4287 - accuracy: 0.4939 - val_loss: 1.4056 - val_accuracy: 0.5045\n",
            "Epoch 12/20\n",
            "391/391 [==============================] - 5s 13ms/step - loss: 1.4308 - accuracy: 0.4934 - val_loss: 1.4384 - val_accuracy: 0.4899\n",
            "Epoch 13/20\n",
            "391/391 [==============================] - 5s 13ms/step - loss: 1.4277 - accuracy: 0.4920 - val_loss: 1.3978 - val_accuracy: 0.5088\n",
            "Epoch 14/20\n",
            "391/391 [==============================] - 5s 13ms/step - loss: 1.4279 - accuracy: 0.4912 - val_loss: 1.4096 - val_accuracy: 0.4991\n",
            "Epoch 15/20\n",
            "391/391 [==============================] - 5s 13ms/step - loss: 1.4292 - accuracy: 0.4913 - val_loss: 1.4637 - val_accuracy: 0.4826\n",
            "Epoch 16/20\n",
            "391/391 [==============================] - 5s 13ms/step - loss: 1.4270 - accuracy: 0.4940 - val_loss: 1.4151 - val_accuracy: 0.4955\n",
            "Epoch 17/20\n",
            "391/391 [==============================] - 5s 13ms/step - loss: 1.4252 - accuracy: 0.4948 - val_loss: 1.4092 - val_accuracy: 0.4994\n",
            "Epoch 18/20\n",
            "391/391 [==============================] - 5s 13ms/step - loss: 1.4186 - accuracy: 0.4968 - val_loss: 1.4082 - val_accuracy: 0.4961\n",
            "Epoch 19/20\n",
            "391/391 [==============================] - 5s 13ms/step - loss: 1.4303 - accuracy: 0.4909 - val_loss: 1.4099 - val_accuracy: 0.4977\n",
            "Epoch 20/20\n",
            "391/391 [==============================] - 5s 13ms/step - loss: 1.4268 - accuracy: 0.4935 - val_loss: 1.4035 - val_accuracy: 0.5010\n"
          ]
        }
      ]
    },
    {
      "cell_type": "code",
      "metadata": {
        "id": "eQsuIhTzk3fE",
        "colab": {
          "base_uri": "https://localhost:8080/"
        },
        "outputId": "e74f1ea2-e580-417c-db3c-119e27f3665b"
      },
      "source": [
        "score = model.evaluate(x_test, y_test)\n"
      ],
      "execution_count": null,
      "outputs": [
        {
          "output_type": "stream",
          "name": "stdout",
          "text": [
            "313/313 [==============================] - 1s 4ms/step - loss: 1.4035 - accuracy: 0.5010\n"
          ]
        }
      ]
    },
    {
      "cell_type": "code",
      "source": [
        "plt.plot(results.history['accuracy'], label='accuracy')\n",
        "plt.plot(results.history['val_accuracy'], label = 'val_accuracy')\n",
        "plt.xlabel('Epoch')\n",
        "plt.ylabel('Accuracy')\n",
        "#plt.ylim([0.5, 1])\n",
        "plt.legend(loc='lower right')\n",
        "\n",
        "test_loss, test_acc = model.evaluate(x_test,  y_test)"
      ],
      "metadata": {
        "colab": {
          "base_uri": "https://localhost:8080/",
          "height": 296
        },
        "id": "lrxn2f3Nr06H",
        "outputId": "469629ea-dad3-4977-e790-c2e986c0a1eb"
      },
      "execution_count": null,
      "outputs": [
        {
          "output_type": "stream",
          "name": "stdout",
          "text": [
            "313/313 [==============================] - 1s 4ms/step - loss: 1.4035 - accuracy: 0.5010\n"
          ]
        },
        {
          "output_type": "display_data",
          "data": {
            "text/plain": [
              "<Figure size 432x288 with 1 Axes>"
            ],
            "image/png": "[encoded data removed]"
          },
          "metadata": {
            "needs_background": "light"
          }
        }
      ]
    },
    {
      "cell_type": "code",
      "source": [
        "plt.plot(results.history['loss'], label='loss')\n",
        "plt.plot(results.history['val_loss'], label = 'val_loss')\n",
        "plt.xlabel('Epoch')\n",
        "plt.ylabel('loss')\n",
        "#plt.ylim([0.5, 1])\n",
        "plt.legend(loc='lower right')\n",
        "\n",
        "test_loss, test_acc = model.evaluate(x_test,  y_test)"
      ],
      "metadata": {
        "colab": {
          "base_uri": "https://localhost:8080/",
          "height": 296
        },
        "id": "qSo-cJafY0wF",
        "outputId": "56b7fd99-a92c-4492-c97f-31a02572a563"
      },
      "execution_count": null,
      "outputs": [
        {
          "output_type": "stream",
          "name": "stdout",
          "text": [
            "313/313 [==============================] - 1s 4ms/step - loss: 1.4035 - accuracy: 0.5010\n"
          ]
        },
        {
          "output_type": "display_data",
          "data": {
            "text/plain": [
              "<Figure size 432x288 with 1 Axes>"
            ],
            "image/png": "[encoded data removed]"
          },
          "metadata": {
            "needs_background": "light"
          }
        }
      ]
    }
  ]
}