{
  "nbformat": 4,
  "nbformat_minor": 0,
  "metadata": {
    "colab": {
      "name": "Minist with CNN",
      "provenance": [],
      "collapsed_sections": []
    },
    "kernelspec": {
      "name": "python3",
      "display_name": "Python 3"
    },
    "language_info": {
      "name": "python"
    },
    "accelerator": "GPU"
  },
  "cells": [
    {
      "cell_type": "code",
      "metadata": {
        "id": "HD2Rk-ZDSMVx"
      },
      "source": [
        "from tensorflow import keras\n",
        "from keras.layers import Input, Dense, Conv2D, MaxPooling2D, Flatten\n",
        "from tensorflow.keras import  datasets\n",
        "from matplotlib import pyplot as plt\n"
      ],
      "execution_count": null,
      "outputs": []
    },
    {
      "cell_type": "code",
      "source": [
        "(x_train, y_train), (x_test, y_test) = datasets.mnist.load_data()"
      ],
      "metadata": {
        "id": "6V3cDL4G4WMF",
        "colab": {
          "base_uri": "https://localhost:8080/"
        },
        "outputId": "c429ed5e-427e-4130-dfa1-72a391897acc"
      },
      "execution_count": null,
      "outputs": [
        {
          "output_type": "stream",
          "name": "stdout",
          "text": [
            "Downloading data from https://storage.googleapis.com/tensorflow/tf-keras-datasets/mnist.npz\n",
            "11493376/11490434 [==============================] - 0s 0us/step\n",
            "11501568/11490434 [==============================] - 0s 0us/step\n"
          ]
        }
      ]
    },
    {
      "cell_type": "code",
      "source": [
        "plt.imshow(x_train[5],cmap=\"gray\")\n",
        "print(y_train[5])"
      ],
      "metadata": {
        "colab": {
          "base_uri": "https://localhost:8080/",
          "height": 284
        },
        "id": "Vq0Ewpop3T6t",
        "outputId": "927a26e4-8719-4108-f098-5cbbb138ac86"
      },
      "execution_count": null,
      "outputs": [
        {
          "output_type": "stream",
          "name": "stdout",
          "text": [
            "2\n"
          ]
        },
        {
          "output_type": "display_data",
          "data": {
            "text/plain": [
              "<Figure size 432x288 with 1 Axes>"
            ],
            "image/png": "[encoded data removed]"
          },
          "metadata": {
            "needs_background": "light"
          }
        }
      ]
    },
    {
      "cell_type": "code",
      "source": [
        "#Convert the labels into 0 and 1 codes.\n",
        "num_classes = 10   #form 0 to 9\n",
        "y_train = keras.utils.to_categorical(y_train, num_classes)\n",
        "y_test = keras.utils.to_categorical(y_test, num_classes)\n",
        "print(y_train[0])"
      ],
      "metadata": {
        "colab": {
          "base_uri": "https://localhost:8080/"
        },
        "id": "SYay648d3REP",
        "outputId": "30025fa2-63f7-47b7-a19a-a6180aa205f6"
      },
      "execution_count": null,
      "outputs": [
        {
          "output_type": "stream",
          "name": "stdout",
          "text": [
            "[0. 0. 0. 0. 0. 1. 0. 0. 0. 0.]\n"
          ]
        }
      ]
    },
    {
      "cell_type": "code",
      "metadata": {
        "id": "vt9t37WrhWy8"
      },
      "source": [
        "#Normalize image pixel values.\n",
        "x_train = x_train/255\n",
        "x_test = x_test/255"
      ],
      "execution_count": null,
      "outputs": []
    },
    {
      "cell_type": "code",
      "metadata": {
        "colab": {
          "base_uri": "https://localhost:8080/"
        },
        "id": "ORom-RTJZ-kp",
        "outputId": "a9dbdc3c-f0d2-4a6a-a6a8-bb12b2a0465f"
      },
      "source": [
        "model=keras.Sequential() #Create a network sequence.\n",
        "\n",
        "\n",
        "model.add(Input(shape=(28,28,1)))   #28*28*1\n",
        "\n",
        "model.add(Conv2D(filters=6,kernel_size = 5,strides = (1,1), padding = 'same',activation = 'relu'))   #28*28*6 #param=156\n",
        "model.add(keras.layers.AvgPool2D(pool_size=(2,2), strides = (2,2), padding = 'valid'))   #14*14*6 #param=0\n",
        "\n",
        "model.add(Conv2D(filters=6,kernel_size = 5,strides = (1,1), padding = 'same',activation = 'relu'))   #14*14*6 #param=906\n",
        "model.add(keras.layers.AvgPool2D(pool_size=(2,2), strides = (2,2), padding = 'valid'))   #7*7*6 #param=0\n",
        "\n",
        "\n",
        "model.add(Conv2D(filters=16,kernel_size = 3,strides = (1,1), padding = 'same',activation = 'relu'))  #7*7*6 #param=880\n",
        "model.add(keras.layers.AvgPool2D(pool_size=(2,2), strides = (2,2), padding = 'valid'))  #3*3*16 #param=0\n",
        "\n",
        "\n",
        "\n",
        "\n",
        "\n",
        "\n",
        "\n",
        "model.add(Flatten())  #instead of 784 we got 144   #3*3*16=144 features\n",
        "model.add(Dense(84,activation = 'relu'))  #144*84+84=12180\n",
        "\n",
        "model.add(Dense(10,activation = 'softmax'))  #84*10+10=850 \n",
        "\n",
        "model.summary()"
      ],
      "execution_count": null,
      "outputs": [
        {
          "output_type": "stream",
          "name": "stdout",
          "text": [
            "Model: \"sequential\"\n",
            "_________________________________________________________________\n",
            " Layer (type)                Output Shape              Param #   \n",
            "=================================================================\n",
            " conv2d (Conv2D)             (None, 28, 28, 6)         156       \n",
            "                                                                 \n",
            " average_pooling2d (AverageP  (None, 14, 14, 6)        0         \n",
            " ooling2D)                                                       \n",
            "                                                                 \n",
            " conv2d_1 (Conv2D)           (None, 14, 14, 6)         906       \n",
            "                                                                 \n",
            " average_pooling2d_1 (Averag  (None, 7, 7, 6)          0         \n",
            " ePooling2D)                                                     \n",
            "                                                                 \n",
            " conv2d_2 (Conv2D)           (None, 7, 7, 16)          880       \n",
            "                                                                 \n",
            " average_pooling2d_2 (Averag  (None, 3, 3, 16)         0         \n",
            " ePooling2D)                                                     \n",
            "                                                                 \n",
            " flatten (Flatten)           (None, 144)               0         \n",
            "                                                                 \n",
            " dense (Dense)               (None, 84)                12180     \n",
            "                                                                 \n",
            " dense_1 (Dense)             (None, 10)                850       \n",
            "                                                                 \n",
            "=================================================================\n",
            "Total params: 14,972\n",
            "Trainable params: 14,972\n",
            "Non-trainable params: 0\n",
            "_________________________________________________________________\n"
          ]
        }
      ]
    },
    {
      "cell_type": "code",
      "metadata": {
        "id": "skMSXinVhSPV",
        "colab": {
          "base_uri": "https://localhost:8080/"
        },
        "outputId": "27d303b5-1a13-49e2-b73b-726c5ef88edf"
      },
      "source": [
        "model.compile(optimizer='Adam',loss=\"categorical_crossentropy\",metrics=['accuracy']) \n",
        "\n",
        "results= model.fit(x_train,y_train,epochs=20,batch_size=128,validation_data=(x_test, y_test))\n",
        "\n"
      ],
      "execution_count": null,
      "outputs": [
        {
          "output_type": "stream",
          "name": "stdout",
          "text": [
            "Epoch 1/20\n",
            "469/469 [==============================] - 14s 9ms/step - loss: 0.5731 - accuracy: 0.8214 - val_loss: 0.2285 - val_accuracy: 0.9301\n",
            "Epoch 2/20\n",
            "469/469 [==============================] - 4s 9ms/step - loss: 0.1871 - accuracy: 0.9440 - val_loss: 0.1451 - val_accuracy: 0.9517\n",
            "Epoch 3/20\n",
            "469/469 [==============================] - 4s 8ms/step - loss: 0.1382 - accuracy: 0.9584 - val_loss: 0.1100 - val_accuracy: 0.9645\n",
            "Epoch 4/20\n",
            "469/469 [==============================] - 4s 8ms/step - loss: 0.1162 - accuracy: 0.9651 - val_loss: 0.1004 - val_accuracy: 0.9684\n",
            "Epoch 5/20\n",
            "469/469 [==============================] - 4s 8ms/step - loss: 0.0989 - accuracy: 0.9697 - val_loss: 0.0810 - val_accuracy: 0.9739\n",
            "Epoch 6/20\n",
            "469/469 [==============================] - 4s 8ms/step - loss: 0.0867 - accuracy: 0.9735 - val_loss: 0.0716 - val_accuracy: 0.9763\n",
            "Epoch 7/20\n",
            "469/469 [==============================] - 4s 8ms/step - loss: 0.0771 - accuracy: 0.9761 - val_loss: 0.0734 - val_accuracy: 0.9748\n",
            "Epoch 8/20\n",
            "469/469 [==============================] - 4s 8ms/step - loss: 0.0713 - accuracy: 0.9784 - val_loss: 0.0645 - val_accuracy: 0.9782\n",
            "Epoch 9/20\n",
            "469/469 [==============================] - 4s 8ms/step - loss: 0.0660 - accuracy: 0.9794 - val_loss: 0.0592 - val_accuracy: 0.9799\n",
            "Epoch 10/20\n",
            "469/469 [==============================] - 5s 10ms/step - loss: 0.0588 - accuracy: 0.9819 - val_loss: 0.0574 - val_accuracy: 0.9839\n",
            "Epoch 11/20\n",
            "469/469 [==============================] - 4s 9ms/step - loss: 0.0561 - accuracy: 0.9823 - val_loss: 0.0587 - val_accuracy: 0.9805\n",
            "Epoch 12/20\n",
            "469/469 [==============================] - 4s 9ms/step - loss: 0.0526 - accuracy: 0.9834 - val_loss: 0.0528 - val_accuracy: 0.9827\n",
            "Epoch 13/20\n",
            "469/469 [==============================] - 4s 9ms/step - loss: 0.0490 - accuracy: 0.9850 - val_loss: 0.0447 - val_accuracy: 0.9858\n",
            "Epoch 14/20\n",
            "469/469 [==============================] - 4s 8ms/step - loss: 0.0461 - accuracy: 0.9856 - val_loss: 0.0442 - val_accuracy: 0.9851\n",
            "Epoch 15/20\n",
            "469/469 [==============================] - 4s 8ms/step - loss: 0.0432 - accuracy: 0.9863 - val_loss: 0.0447 - val_accuracy: 0.9861\n",
            "Epoch 16/20\n",
            "469/469 [==============================] - 4s 9ms/step - loss: 0.0408 - accuracy: 0.9874 - val_loss: 0.0447 - val_accuracy: 0.9856\n",
            "Epoch 17/20\n",
            "469/469 [==============================] - 4s 8ms/step - loss: 0.0385 - accuracy: 0.9876 - val_loss: 0.0386 - val_accuracy: 0.9863\n",
            "Epoch 18/20\n",
            "469/469 [==============================] - 4s 8ms/step - loss: 0.0365 - accuracy: 0.9881 - val_loss: 0.0421 - val_accuracy: 0.9850\n",
            "Epoch 19/20\n",
            "469/469 [==============================] - 4s 8ms/step - loss: 0.0352 - accuracy: 0.9890 - val_loss: 0.0391 - val_accuracy: 0.9867\n",
            "Epoch 20/20\n",
            "469/469 [==============================] - 4s 8ms/step - loss: 0.0325 - accuracy: 0.9896 - val_loss: 0.0373 - val_accuracy: 0.9862\n"
          ]
        }
      ]
    },
    {
      "cell_type": "code",
      "metadata": {
        "id": "eQsuIhTzk3fE",
        "colab": {
          "base_uri": "https://localhost:8080/"
        },
        "outputId": "2638a7bd-c1b7-4f97-9eaf-96a733cc3d81"
      },
      "source": [
        "score = model.evaluate(x_test, y_test)\n"
      ],
      "execution_count": null,
      "outputs": [
        {
          "output_type": "stream",
          "name": "stdout",
          "text": [
            "313/313 [==============================] - 1s 4ms/step - loss: 0.0373 - accuracy: 0.9862\n"
          ]
        }
      ]
    },
    {
      "cell_type": "code",
      "metadata": {
        "id": "tK3DWgfVS_Un"
      },
      "source": [
        ""
      ],
      "execution_count": null,
      "outputs": []
    },
    {
      "cell_type": "code",
      "source": [
        "\n",
        "plt.plot(results.history['loss'])\n",
        "plt.plot(results.history['val_loss'])\n",
        "\n",
        "plt.title('Model loss')\n",
        "plt.ylabel('loss')\n",
        "\n",
        "plt.xlabel('Epoch')\n",
        "plt.legend(['Train', 'Test'], loc='upper right')\n",
        "\n",
        "plt.show()"
      ],
      "metadata": {
        "id": "ziT-g5B7X1z_",
        "colab": {
          "base_uri": "https://localhost:8080/",
          "height": 295
        },
        "outputId": "37d93478-0b09-43f5-f1b8-291a9bc2758e"
      },
      "execution_count": null,
      "outputs": [
        {
          "output_type": "display_data",
          "data": {
            "text/plain": [
              "<Figure size 432x288 with 1 Axes>"
            ],
            "image/png": "[encoded data removed]"
          },
          "metadata": {
            "needs_background": "light"
          }
        }
      ]
    },
    {
      "cell_type": "code",
      "source": [
        "plt.imshow(x_test[5])\n",
        "print(y_test[5])"
      ],
      "metadata": {
        "colab": {
          "base_uri": "https://localhost:8080/",
          "height": 284
        },
        "id": "wvqPlKJ35whC",
        "outputId": "f5b65eb3-df3b-4556-c70c-ae25007f6153"
      },
      "execution_count": null,
      "outputs": [
        {
          "output_type": "stream",
          "name": "stdout",
          "text": [
            "[0. 1. 0. 0. 0. 0. 0. 0. 0. 0.]\n"
          ]
        },
        {
          "output_type": "display_data",
          "data": {
            "text/plain": [
              "<Figure size 432x288 with 1 Axes>"
            ],
            "image/png": "[encoded data removed]"
          },
          "metadata": {
            "needs_background": "light"
          }
        }
      ]
    }
  ]
}